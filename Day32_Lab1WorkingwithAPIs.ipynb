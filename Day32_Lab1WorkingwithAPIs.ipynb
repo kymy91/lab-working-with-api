{
 "cells": [
  {
   "cell_type": "markdown",
   "metadata": {},
   "source": [
    "# Day 32_Lab1 | Working with APIs\n",
    "Instructions Following the class example, create a function that returns the price, names of origin and arrival airports and the name of the company. Do it for all the flights between two dates that cost the same."
   ]
  },
  {
   "cell_type": "code",
   "execution_count": 1,
   "metadata": {},
   "outputs": [
    {
     "data": {
      "text/plain": [
       "'69f46ecd31msh83ff312d3e01a9ep1e9ce7jsnd7d99cf2da02'"
      ]
     },
     "execution_count": 1,
     "metadata": {},
     "output_type": "execute_result"
    }
   ],
   "source": [
    "# Import libraries\n",
    "import sys\n",
    "import pandas as pd\n",
    "import json\n",
    "import requests\n",
    "\n",
    "sys.path.insert(1, 'c:/Users/kyear/Documents/Personal/Education/Ironhack/32_API/config.py')\n",
    "from config import * # config.py\n",
    "\n",
    "apiKey"
   ]
  },
  {
   "cell_type": "code",
   "execution_count": 2,
   "metadata": {},
   "outputs": [
    {
     "data": {
      "text/plain": [
       "0    1992-01-01\n",
       "1    1992-01-02\n",
       "2    1992-01-03\n",
       "dtype: object"
      ]
     },
     "execution_count": 2,
     "metadata": {},
     "output_type": "execute_result"
    }
   ],
   "source": [
    "def get_dates(start, end):\n",
    "    return pd.Series(pd.date_range(start, end,freq='d').format()) # Format makes the output ans str variable.\n",
    "\n",
    "get_dates('1992-01-01','1992-01-03')"
   ]
  },
  {
   "cell_type": "code",
   "execution_count": 5,
   "metadata": {},
   "outputs": [],
   "source": [
    "def city_code(city_name):\n",
    "    url = \"https://skyscanner-skyscanner-flight-search-v1.p.rapidapi.com/apiservices/autosuggest/v1.0/US/USD/en-US/\"\n",
    "\n",
    "    params = {\"query\": city_name}\n",
    "\n",
    "    headers = {'x-rapidapi-host': apiKey,\n",
    "                      'x-rapidapi-key': \"5f8cfd5afcmshd4d1c1f353a0a37p1a0c57jsnc156b5523fcf\"}\n",
    "\n",
    "    response = requests.get(url, headers = headers, params = params)\n",
    "\n",
    "    return response.json()"
   ]
  },
  {
   "cell_type": "code",
   "execution_count": 6,
   "metadata": {},
   "outputs": [
    {
     "data": {
      "text/plain": [
       "{'message': \"API doesn't exists\"}"
      ]
     },
     "execution_count": 6,
     "metadata": {},
     "output_type": "execute_result"
    }
   ],
   "source": [
    "def flight_prices(departure, arrival, date):\n",
    "\n",
    "    departure_code = city_code(departure)\n",
    "    arrival_code = city_code(arrival)\n",
    "    url = f\"https://skyscanner-skyscanner-flight-search-v1.p.rapidapi.com/apiservices/browsequotes/v1.0/US/USD/en-US/{departure_code}/{arrival_code}/{date}\"\n",
    "\n",
    "    params = {\"inboundpartialdate\":{date}}\n",
    "\n",
    "    #headers = {\n",
    "    #'x-rapidapi-host': \"skyscanner-skyscanner-flight-search-v1.p.rapidapi.com\",\n",
    "    #'x-rapidapi-key': \"<introduce your RapidAPI key here>\"}\n",
    "\n",
    "    headers = {\n",
    "    'x-rapidapi-host': apiKey,\n",
    "    'x-rapidapi-key': \"5f8cfd5afcmshd4d1c1f353a0a37p1a0c57jsnc156b5523fcf\"}\n",
    "\n",
    "    response = requests.get(url, headers=headers, params=params)\n",
    "\n",
    "    return response.json()\n",
    "\n",
    "flight_prices('Paris', 'London','2021-12-10')"
   ]
  },
  {
   "cell_type": "code",
   "execution_count": 7,
   "metadata": {},
   "outputs": [],
   "source": [
    "from  time import sleep\n",
    "\n",
    "def flight_days(origin, destination, start, end):\n",
    "    dates = get_dates(start, end)\n",
    "    my_dict = {}\n",
    "    for date in list(dates):\n",
    "        #result = None\n",
    "        #while (result == None):\n",
    "            try: \n",
    "                #print(date)\n",
    "                #print(\"Gathering fligths\")\n",
    "                result = flight_prices(origin, destination, date)\n",
    "                my_dict[date] = result\n",
    "                sleep(5)\n",
    "            except: \n",
    "                print(\"Error from the API\")\n",
    "                sleep(60)\n",
    "    return my_dict"
   ]
  },
  {
   "cell_type": "code",
   "execution_count": 8,
   "metadata": {},
   "outputs": [],
   "source": [
    "flights = flight_days('Barcelona','London','2021-11-26','2021-12-12')"
   ]
  },
  {
   "cell_type": "code",
   "execution_count": 9,
   "metadata": {},
   "outputs": [
    {
     "data": {
      "text/plain": [
       "{'2021-11-26': {'message': \"API doesn't exists\"},\n",
       " '2021-11-27': {'message': \"API doesn't exists\"},\n",
       " '2021-11-28': {'message': \"API doesn't exists\"},\n",
       " '2021-11-29': {'message': \"API doesn't exists\"},\n",
       " '2021-11-30': {'message': \"API doesn't exists\"},\n",
       " '2021-12-01': {'message': \"API doesn't exists\"},\n",
       " '2021-12-02': {'message': \"API doesn't exists\"},\n",
       " '2021-12-03': {'message': \"API doesn't exists\"},\n",
       " '2021-12-04': {'message': \"API doesn't exists\"},\n",
       " '2021-12-05': {'message': \"API doesn't exists\"},\n",
       " '2021-12-06': {'message': \"API doesn't exists\"},\n",
       " '2021-12-07': {'message': \"API doesn't exists\"},\n",
       " '2021-12-08': {'message': \"API doesn't exists\"},\n",
       " '2021-12-09': {'message': \"API doesn't exists\"},\n",
       " '2021-12-10': {'message': \"API doesn't exists\"},\n",
       " '2021-12-11': {'message': \"API doesn't exists\"},\n",
       " '2021-12-12': {'message': \"API doesn't exists\"}}"
      ]
     },
     "execution_count": 9,
     "metadata": {},
     "output_type": "execute_result"
    }
   ],
   "source": [
    "flights"
   ]
  },
  {
   "cell_type": "code",
   "execution_count": 10,
   "metadata": {},
   "outputs": [],
   "source": [
    "def repeat(x): \n",
    "    _size = len(x) \n",
    "    repeated = [] \n",
    "    for i in range(_size): \n",
    "        k = i + 1\n",
    "        for j in range(k, _size): \n",
    "            if x[i] == x[j] and x[i] not in repeated: \n",
    "                repeated.append(x[i]) \n",
    "    return repeated "
   ]
  },
  {
   "cell_type": "code",
   "execution_count": 11,
   "metadata": {},
   "outputs": [
    {
     "ename": "KeyError",
     "evalue": "'Quotes'",
     "output_type": "error",
     "traceback": [
      "\u001b[1;31m---------------------------------------------------------------------------\u001b[0m",
      "\u001b[1;31mKeyError\u001b[0m                                  Traceback (most recent call last)",
      "\u001b[1;32m<ipython-input-11-b42eded4293d>\u001b[0m in \u001b[0;36m<module>\u001b[1;34m\u001b[0m\n\u001b[0;32m      7\u001b[0m     \u001b[0mmin_price\u001b[0m \u001b[1;33m=\u001b[0m \u001b[1;36m10000\u001b[0m\u001b[1;33m\u001b[0m\u001b[1;33m\u001b[0m\u001b[0m\n\u001b[0;32m      8\u001b[0m     \u001b[0mbest_date\u001b[0m \u001b[1;33m=\u001b[0m \u001b[1;34m\"\"\u001b[0m\u001b[1;33m\u001b[0m\u001b[1;33m\u001b[0m\u001b[0m\n\u001b[1;32m----> 9\u001b[1;33m     \u001b[1;32mfor\u001b[0m \u001b[0melem\u001b[0m \u001b[1;32min\u001b[0m \u001b[0mflights\u001b[0m\u001b[1;33m[\u001b[0m\u001b[0mdate\u001b[0m\u001b[1;33m]\u001b[0m\u001b[1;33m[\u001b[0m\u001b[1;34m'Quotes'\u001b[0m\u001b[1;33m]\u001b[0m\u001b[1;33m:\u001b[0m \u001b[1;31m# We iterate over \"Quotes\" of each day.\u001b[0m\u001b[1;33m\u001b[0m\u001b[1;33m\u001b[0m\u001b[0m\n\u001b[0m\u001b[0;32m     10\u001b[0m         \u001b[0mmy_dict\u001b[0m\u001b[1;33m[\u001b[0m\u001b[0mdate\u001b[0m\u001b[1;33m]\u001b[0m\u001b[1;33m.\u001b[0m\u001b[0mappend\u001b[0m\u001b[1;33m(\u001b[0m\u001b[0melem\u001b[0m\u001b[1;33m[\u001b[0m\u001b[1;34m'MinPrice'\u001b[0m\u001b[1;33m]\u001b[0m\u001b[1;33m)\u001b[0m \u001b[1;31m# We fill the date with the prices.\u001b[0m\u001b[1;33m\u001b[0m\u001b[1;33m\u001b[0m\u001b[0m\n\u001b[0;32m     11\u001b[0m         \u001b[1;32mif\u001b[0m \u001b[1;33m(\u001b[0m\u001b[0melem\u001b[0m\u001b[1;33m[\u001b[0m\u001b[1;34m'MinPrice'\u001b[0m\u001b[1;33m]\u001b[0m \u001b[1;33m==\u001b[0m \u001b[0mmin_price\u001b[0m\u001b[1;33m)\u001b[0m\u001b[1;33m:\u001b[0m\u001b[1;33m\u001b[0m\u001b[1;33m\u001b[0m\u001b[0m\n",
      "\u001b[1;31mKeyError\u001b[0m: 'Quotes'"
     ]
    }
   ],
   "source": [
    "import re\n",
    "my_dict = {}\n",
    "store_dict = []\n",
    "store_price = []\n",
    "for date in flights: # We iterate over the dates\n",
    "    my_dict[date] = [] #We create an empty list of prices for the given date.\n",
    "    min_price = 10000\n",
    "    best_date = \"\"\n",
    "    for elem in flights[date]['Quotes']: # We iterate over \"Quotes\" of each day.\n",
    "        my_dict[date].append(elem['MinPrice']) # We fill the date with the prices.\n",
    "        if (elem['MinPrice'] == min_price):\n",
    "            min_price = elem['MinPrice']\n",
    "            best_date = date\n",
    "    try:\n",
    "        store_dict.append([{'Price': flights[date]['Quotes'][0]['MinPrice'],\n",
    "                           'Name origin': flights[date]['Places'][0]['Name'],\n",
    "                           'Name arrival': flights[date]['Places'][1]['Name'],\n",
    "                           'Airline': flights[date]['Carriers'][0]['Name'],\n",
    "                           'Date': flights[date]['Quotes'][0]['OutboundLeg']['DepartureDate'][:-9]\n",
    "                           }])\n",
    "    except:\n",
    "        continue\n",
    "\n",
    "for elem in store_dict:\n",
    "    store_price.append(elem[0]['Price'])\n",
    "    \n",
    "for i in store_dict:\n",
    "    if i[0]['Price'] in repeat(store_price):\n",
    "        print(i)"
   ]
  },
  {
   "cell_type": "code",
   "execution_count": null,
   "metadata": {},
   "outputs": [],
   "source": []
  },
  {
   "cell_type": "code",
   "execution_count": null,
   "metadata": {},
   "outputs": [],
   "source": []
  }
 ],
 "metadata": {
  "kernelspec": {
   "display_name": "Python 3",
   "language": "python",
   "name": "python3"
  },
  "language_info": {
   "codemirror_mode": {
    "name": "ipython",
    "version": 3
   },
   "file_extension": ".py",
   "mimetype": "text/x-python",
   "name": "python",
   "nbconvert_exporter": "python",
   "pygments_lexer": "ipython3",
   "version": "3.8.5"
  }
 },
 "nbformat": 4,
 "nbformat_minor": 4
}
